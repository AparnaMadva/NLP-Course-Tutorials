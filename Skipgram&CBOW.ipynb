{
  "nbformat": 4,
  "nbformat_minor": 0,
  "metadata": {
    "colab": {
      "provenance": [],
      "collapsed_sections": [
        "0pXFmTnZ1zzG"
      ],
      "authorship_tag": "ABX9TyN1iSR0idH0+AtAM6qG2c3B",
      "include_colab_link": true
    },
    "kernelspec": {
      "name": "python3",
      "display_name": "Python 3"
    },
    "language_info": {
      "name": "python"
    },
    "gpuClass": "standard"
  },
  "cells": [
    {
      "cell_type": "markdown",
      "metadata": {
        "id": "view-in-github",
        "colab_type": "text"
      },
      "source": [
        "<a href=\"https://colab.research.google.com/github/AparnaMadva/NLP-Course-Tutorials/blob/main/Skipgram%26CBOW.ipynb\" target=\"_parent\"><img src=\"https://colab.research.google.com/assets/colab-badge.svg\" alt=\"Open In Colab\"/></a>"
      ]
    },
    {
      "cell_type": "markdown",
      "source": [
        "# Word2Vec : Skip-Gram and CBOW"
      ],
      "metadata": {
        "id": "funqG_0aIF5H"
      }
    },
    {
      "cell_type": "markdown",
      "source": [
        "![1_cuOmGT7NevP9oJFJfVpRKA.webp](data:image/webp;base64,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)"
      ],
      "metadata": {
        "id": "7djjxHaLxlJ_"
      }
    },
    {
      "cell_type": "markdown",
      "source": [
        "[Figure](https://arxiv.org/pdf/1309.4168v1.pdf): Architecture of Skip-gram and CBOW models"
      ],
      "metadata": {
        "id": "zDDRVB_wyNy0"
      }
    },
    {
      "cell_type": "code",
      "execution_count": null,
      "metadata": {
        "id": "36cxNr-P3-nd"
      },
      "outputs": [],
      "source": [
        "import nltk\n",
        "import numpy as np\n",
        "import pandas as pd\n",
        "import re\n",
        "\n",
        "from string import punctuation\n",
        "import matplotlib.pyplot as plt\n",
        "\n",
        "#plt.figure(figsize = (4,4))"
      ]
    },
    {
      "cell_type": "code",
      "source": [],
      "metadata": {
        "id": "zMy9tXNGx2S2"
      },
      "execution_count": null,
      "outputs": []
    },
    {
      "cell_type": "markdown",
      "source": [
        "## SkipGram model"
      ],
      "metadata": {
        "id": "7vk1kzLew57V"
      }
    },
    {
      "cell_type": "markdown",
      "source": [
        "#### Build corpus vocabulary"
      ],
      "metadata": {
        "id": "RAsEq64cH_-q"
      }
    },
    {
      "cell_type": "code",
      "source": [
        "from nltk.corpus import gutenberg\n",
        "\n",
        "nltk.download('gutenberg')\n",
        "nltk.download('punkt')\n",
        "nltk.download('stopwords')\n",
        "\n",
        "stop_words = nltk.corpus.stopwords.words('english')"
      ],
      "metadata": {
        "id": "garBwxhaDcsy",
        "colab": {
          "base_uri": "https://localhost:8080/"
        },
        "outputId": "774a4ddd-84f9-4de0-eea0-a1691c72d746"
      },
      "execution_count": null,
      "outputs": [
        {
          "output_type": "stream",
          "name": "stderr",
          "text": [
            "[nltk_data] Downloading package gutenberg to /root/nltk_data...\n",
            "[nltk_data]   Unzipping corpora/gutenberg.zip.\n",
            "[nltk_data] Downloading package punkt to /root/nltk_data...\n",
            "[nltk_data]   Unzipping tokenizers/punkt.zip.\n",
            "[nltk_data] Downloading package stopwords to /root/nltk_data...\n",
            "[nltk_data]   Unzipping corpora/stopwords.zip.\n"
          ]
        }
      ]
    },
    {
      "cell_type": "code",
      "source": [
        "nltk.corpus.gutenberg.fileids()"
      ],
      "metadata": {
        "colab": {
          "base_uri": "https://localhost:8080/"
        },
        "id": "TzYM01xU6ly2",
        "outputId": "540e5f37-91d1-4a7a-fda3-ca69b9dbf470"
      },
      "execution_count": null,
      "outputs": [
        {
          "output_type": "execute_result",
          "data": {
            "text/plain": [
              "['austen-emma.txt',\n",
              " 'austen-persuasion.txt',\n",
              " 'austen-sense.txt',\n",
              " 'bible-kjv.txt',\n",
              " 'blake-poems.txt',\n",
              " 'bryant-stories.txt',\n",
              " 'burgess-busterbrown.txt',\n",
              " 'carroll-alice.txt',\n",
              " 'chesterton-ball.txt',\n",
              " 'chesterton-brown.txt',\n",
              " 'chesterton-thursday.txt',\n",
              " 'edgeworth-parents.txt',\n",
              " 'melville-moby_dick.txt',\n",
              " 'milton-paradise.txt',\n",
              " 'shakespeare-caesar.txt',\n",
              " 'shakespeare-hamlet.txt',\n",
              " 'shakespeare-macbeth.txt',\n",
              " 'whitman-leaves.txt']"
            ]
          },
          "metadata": {},
          "execution_count": 36
        }
      ]
    },
    {
      "cell_type": "code",
      "source": [
        "bible = gutenberg.sents(\"shakespeare-hamlet.txt\")\n",
        "remove_terms = punctuation + '0123456789'\n",
        "wpt = nltk.WordPunctTokenizer()\n",
        "\n",
        "def normalize_document(doc):\n",
        "  doc = re.sub(r'[^a-zA-Z\\s]', '', doc, re.I|re.A)\n",
        "  doc = doc.lower()\n",
        "  doc = doc.strip()\n",
        "\n",
        "  tokens = wpt.tokenize(doc)\n",
        "\n",
        "  filtered_tokens = [token for token in tokens if token not in stop_words]\n",
        "\n",
        "  doc = ' '.join(filtered_tokens)\n",
        "\n",
        "  return doc\n",
        "\n",
        "normalize_corpus = np.vectorize(normalize_document)"
      ],
      "metadata": {
        "id": "b1gI3ZhLDrq9"
      },
      "execution_count": null,
      "outputs": []
    },
    {
      "cell_type": "code",
      "source": [
        "norm_bible = [[word.lower() for word in sent if word not in remove_terms]\n",
        "              for sent in bible]\n",
        "\n",
        "norm_bible = [' '.join(tok_sent) for tok_sent in norm_bible]\n",
        "norm_bible = filter(None, normalize_corpus(norm_bible))\n",
        "norm_bible = [tok_sent for tok_sent in norm_bible if len(tok_sent.split()) > 2]"
      ],
      "metadata": {
        "id": "ci_Bw9UCE-n9"
      },
      "execution_count": null,
      "outputs": []
    },
    {
      "cell_type": "code",
      "source": [
        "from keras.preprocessing import text\n",
        "\n",
        "tokenizer = text.Tokenizer()\n",
        "tokenizer.fit_on_texts(norm_bible)\n",
        "\n",
        "word2id = tokenizer.word_index\n",
        "id2word = {v:k for k, v in word2id.items()}\n",
        "vocab_size = len(word2id) + 1\n",
        "wids = [[word2id[w] for w in text.text_to_word_sequence(doc)]\n",
        "        for doc in norm_bible]\n",
        "\n",
        "print('Vocabulary size:', vocab_size)\n",
        "print('vocabulary sample:', list(word2id.items())[:5])"
      ],
      "metadata": {
        "colab": {
          "base_uri": "https://localhost:8080/"
        },
        "id": "1S4_fDwEkI_S",
        "outputId": "9ed0667c-6bd1-468f-ce34-65b9c46d5f20"
      },
      "execution_count": null,
      "outputs": [
        {
          "output_type": "stream",
          "name": "stdout",
          "text": [
            "Vocabulary size: 12425\n",
            "vocabulary sample: [('shall', 1), ('unto', 2), ('lord', 3), ('thou', 4), ('thy', 5)]\n"
          ]
        }
      ]
    },
    {
      "cell_type": "markdown",
      "source": [
        "#### Generate skip-grams"
      ],
      "metadata": {
        "id": "xGwKGjMoH3yk"
      }
    },
    {
      "cell_type": "code",
      "source": [
        "from keras.preprocessing.sequence import skipgrams\n",
        "\n",
        "skip_grams = [skipgrams(wid, vocabulary_size=vocab_size, window_size=10)\n",
        "              for wid in wids]\n",
        "pairs, labels = skip_grams[0][0], skip_grams[0][1]"
      ],
      "metadata": {
        "id": "5o6wQIG6E9Lh"
      },
      "execution_count": null,
      "outputs": []
    },
    {
      "cell_type": "code",
      "source": [
        "for i in range(10):\n",
        "  print(\"({:s} ({:d}), {:s} ({:d})) -> {:d}\".format(\n",
        "      id2word[pairs[i][0]],pairs[i][0],\n",
        "      id2word[pairs[i][1]], pairs[i][1],\n",
        "      labels[i]))"
      ],
      "metadata": {
        "colab": {
          "base_uri": "https://localhost:8080/"
        },
        "id": "5TKB7vBUQ6S3",
        "outputId": "84f2dc30-0c09-42c2-86c8-bbf33ac6f493"
      },
      "execution_count": null,
      "outputs": [
        {
          "output_type": "stream",
          "name": "stdout",
          "text": [
            "(james (1154), hazelelponi (9665)) -> 0\n",
            "(bible (5766), king (13)) -> 1\n",
            "(james (1154), king (13)) -> 1\n",
            "(bible (5766), tibni (6186)) -> 0\n",
            "(king (13), james (1154)) -> 1\n",
            "(bible (5766), judea (10109)) -> 0\n",
            "(king (13), conditions (11565)) -> 0\n",
            "(bible (5766), james (1154)) -> 1\n",
            "(james (1154), persons (982)) -> 0\n",
            "(james (1154), bible (5766)) -> 1\n"
          ]
        }
      ]
    },
    {
      "cell_type": "markdown",
      "source": [
        "#### Build skip-gram architecture"
      ],
      "metadata": {
        "id": "MXh7ByryHugq"
      }
    },
    {
      "cell_type": "code",
      "source": [
        "from keras.layers import *\n",
        "from keras.layers.core import Dense, Reshape\n",
        "from keras.layers import Embedding\n",
        "from keras.models import Model,Sequential"
      ],
      "metadata": {
        "id": "_ynHJ0o3ktUP"
      },
      "execution_count": null,
      "outputs": []
    },
    {
      "cell_type": "code",
      "source": [
        "embed_size = 100\n",
        "word_model = Sequential()\n",
        "word_model.add(Embedding(vocab_size, embed_size,\n",
        "                         embeddings_initializer='glorot_uniform',\n",
        "                         input_length=1))\n",
        "word_model.add(Reshape((embed_size, )))\n",
        "\n",
        "context_model = Sequential()\n",
        "context_model.add(Embedding(vocab_size, embed_size,\n",
        "                            embeddings_initializer='glorot_uniform',\n",
        "                            input_length=1))\n",
        "context_model.add(Reshape((embed_size,)))\n",
        "\n",
        "merged_output = add([word_model.output, context_model.output])\n",
        "\n",
        "model_combined = Sequential()\n",
        "model_combined.add(Dense(1,\n",
        "                         kernel_initializer='glorot_uniform',\n",
        "                         activation='sigmoid'))"
      ],
      "metadata": {
        "id": "M8vCADZVHzGR"
      },
      "execution_count": null,
      "outputs": []
    },
    {
      "cell_type": "code",
      "source": [
        "final_model = Model([word_model.input,context_model.input],\n",
        "                    model_combined(merged_output)\n",
        "                    )\n",
        "final_model.compile(loss='mean_squared_error', optimizer='rmsprop')\n",
        "final_model.summary()"
      ],
      "metadata": {
        "id": "eJJzT7kqMJ0t",
        "colab": {
          "base_uri": "https://localhost:8080/"
        },
        "outputId": "520e3f8c-fa6f-4edf-fbc8-6d106a9c48c2"
      },
      "execution_count": null,
      "outputs": [
        {
          "output_type": "stream",
          "name": "stdout",
          "text": [
            "Model: \"model\"\n",
            "__________________________________________________________________________________________________\n",
            " Layer (type)                   Output Shape         Param #     Connected to                     \n",
            "==================================================================================================\n",
            " embedding_input (InputLayer)   [(None, 1)]          0           []                               \n",
            "                                                                                                  \n",
            " embedding_1_input (InputLayer)  [(None, 1)]         0           []                               \n",
            "                                                                                                  \n",
            " embedding (Embedding)          (None, 1, 100)       1242500     ['embedding_input[0][0]']        \n",
            "                                                                                                  \n",
            " embedding_1 (Embedding)        (None, 1, 100)       1242500     ['embedding_1_input[0][0]']      \n",
            "                                                                                                  \n",
            " reshape (Reshape)              (None, 100)          0           ['embedding[0][0]']              \n",
            "                                                                                                  \n",
            " reshape_1 (Reshape)            (None, 100)          0           ['embedding_1[0][0]']            \n",
            "                                                                                                  \n",
            " add (Add)                      (None, 100)          0           ['reshape[0][0]',                \n",
            "                                                                  'reshape_1[0][0]']              \n",
            "                                                                                                  \n",
            " sequential_2 (Sequential)      (None, 1)            101         ['add[0][0]']                    \n",
            "                                                                                                  \n",
            "==================================================================================================\n",
            "Total params: 2,485,101\n",
            "Trainable params: 2,485,101\n",
            "Non-trainable params: 0\n",
            "__________________________________________________________________________________________________\n"
          ]
        }
      ]
    },
    {
      "cell_type": "code",
      "source": [
        "# #visualisation\n",
        "# from IPython.display import SVG\n",
        "# from keras.utils.vis_utils import model_to_dot\n",
        "\n",
        "\n",
        "# SVG(model_to_dot(final_model,\n",
        "#                  show_shapes=True,\n",
        "#                  show_layer_names=False,\n",
        "#                  rankdir='TB').create(prog='dot', format='svg'))"
      ],
      "metadata": {
        "id": "DJhvShxXMLqA"
      },
      "execution_count": null,
      "outputs": []
    },
    {
      "cell_type": "markdown",
      "source": [
        "#### Train model"
      ],
      "metadata": {
        "id": "VQ-dUuH8M435"
      }
    },
    {
      "cell_type": "code",
      "source": [
        "for epoch in range(1,2):\n",
        "  loss = 0\n",
        "  for i,elem in enumerate(skip_grams):\n",
        "    pair_first = np.array(list(zip(*elem[0]))[0],\n",
        "                          dtype='int32')\n",
        "    pair_second = np.array(list(zip(*elem[0]))[1],\n",
        "                           dtype='int32')\n",
        "    labels = np.array(elem[1], dtype='int32')\n",
        "    X = [pair_first, pair_second]\n",
        "    Y = labels\n",
        "    if i%10000 == 0:\n",
        "      print('Processed {} (skip_first, skip_second, relevance) pairs'.format(i))\n",
        "    loss += final_model.train_on_batch(X,Y)\n",
        "  print('Epoch:', epoch, 'Loss:', loss)"
      ],
      "metadata": {
        "id": "SKVT45RhM7Je",
        "colab": {
          "base_uri": "https://localhost:8080/"
        },
        "outputId": "14c1126b-e234-44bd-bd2f-3ba622667b5f"
      },
      "execution_count": null,
      "outputs": [
        {
          "output_type": "stream",
          "name": "stdout",
          "text": [
            "Processed 0 (skip_first, skip_second, relevance) pairs\n",
            "Processed 10000 (skip_first, skip_second, relevance) pairs\n",
            "Processed 20000 (skip_first, skip_second, relevance) pairs\n",
            "Epoch: 1 Loss: 3321.4009713535197\n"
          ]
        }
      ]
    },
    {
      "cell_type": "markdown",
      "source": [
        "#### Get word embeddings"
      ],
      "metadata": {
        "id": "R1JBENX5uXvu"
      }
    },
    {
      "cell_type": "code",
      "source": [
        "from sklearn.metrics.pairwise import euclidean_distances\n",
        "\n",
        "word_embed_layer = word_model.layers[0]\n",
        "weights = word_embed_layer.get_weights()[0][1:]\n",
        "print(weights.shape)\n",
        "pd.DataFrame(weights, index=id2word.values()).head()"
      ],
      "metadata": {
        "id": "nGkBqaoaubut",
        "colab": {
          "base_uri": "https://localhost:8080/",
          "height": 318
        },
        "outputId": "af4157eb-732b-4ae5-a2fc-9283edd2c01c"
      },
      "execution_count": null,
      "outputs": [
        {
          "output_type": "stream",
          "name": "stdout",
          "text": [
            "(12424, 100)\n"
          ]
        },
        {
          "output_type": "execute_result",
          "data": {
            "text/plain": [
              "             0         1         2         3         4         5         6   \\\n",
              "shall -0.017911  0.004880 -0.007396  0.021419 -0.015934 -0.003930 -0.000513   \n",
              "unto   0.002139 -0.018244  0.015636 -0.013421 -0.020808 -0.017322 -0.006129   \n",
              "lord   0.001477 -0.021152  0.019644 -0.012093  0.003775 -0.013490  0.017218   \n",
              "thou  -0.007613  0.015065  0.011351 -0.018918  0.015813  0.010365  0.019496   \n",
              "thy   -0.017873 -0.018922 -0.009550 -0.018091 -0.020793 -0.012331  0.013933   \n",
              "\n",
              "             7         8         9   ...        90        91        92  \\\n",
              "shall -0.009614  0.010878  0.010024  ...  0.009228 -0.019023  0.004526   \n",
              "unto  -0.021582 -0.015174 -0.014712  ... -0.011880  0.002933  0.021158   \n",
              "lord   0.017805 -0.017184  0.021172  ...  0.004856 -0.000441 -0.000553   \n",
              "thou   0.008475 -0.005795 -0.010381  ...  0.018378 -0.004083  0.019282   \n",
              "thy    0.005723  0.016391  0.021742  ... -0.004001 -0.010754  0.014430   \n",
              "\n",
              "             93        94        95        96        97        98        99  \n",
              "shall  0.006658 -0.015446 -0.017750 -0.018068  0.020693 -0.008049 -0.015971  \n",
              "unto   0.005542  0.007465  0.000357 -0.008507  0.009015 -0.009197  0.004243  \n",
              "lord  -0.001684 -0.002552 -0.020895 -0.017940 -0.015282 -0.019248  0.013574  \n",
              "thou   0.018736 -0.000250  0.020032  0.016851 -0.005051 -0.017965 -0.019035  \n",
              "thy    0.009514  0.008432 -0.004720 -0.001927 -0.004011 -0.021194  0.018206  \n",
              "\n",
              "[5 rows x 100 columns]"
            ],
            "text/html": [
              "\n",
              "  <div id=\"df-a560e0f6-4c22-4ab0-a720-ed8fcd206cef\">\n",
              "    <div class=\"colab-df-container\">\n",
              "      <div>\n",
              "<style scoped>\n",
              "    .dataframe tbody tr th:only-of-type {\n",
              "        vertical-align: middle;\n",
              "    }\n",
              "\n",
              "    .dataframe tbody tr th {\n",
              "        vertical-align: top;\n",
              "    }\n",
              "\n",
              "    .dataframe thead th {\n",
              "        text-align: right;\n",
              "    }\n",
              "</style>\n",
              "<table border=\"1\" class=\"dataframe\">\n",
              "  <thead>\n",
              "    <tr style=\"text-align: right;\">\n",
              "      <th></th>\n",
              "      <th>0</th>\n",
              "      <th>1</th>\n",
              "      <th>2</th>\n",
              "      <th>3</th>\n",
              "      <th>4</th>\n",
              "      <th>5</th>\n",
              "      <th>6</th>\n",
              "      <th>7</th>\n",
              "      <th>8</th>\n",
              "      <th>9</th>\n",
              "      <th>...</th>\n",
              "      <th>90</th>\n",
              "      <th>91</th>\n",
              "      <th>92</th>\n",
              "      <th>93</th>\n",
              "      <th>94</th>\n",
              "      <th>95</th>\n",
              "      <th>96</th>\n",
              "      <th>97</th>\n",
              "      <th>98</th>\n",
              "      <th>99</th>\n",
              "    </tr>\n",
              "  </thead>\n",
              "  <tbody>\n",
              "    <tr>\n",
              "      <th>shall</th>\n",
              "      <td>-0.017911</td>\n",
              "      <td>0.004880</td>\n",
              "      <td>-0.007396</td>\n",
              "      <td>0.021419</td>\n",
              "      <td>-0.015934</td>\n",
              "      <td>-0.003930</td>\n",
              "      <td>-0.000513</td>\n",
              "      <td>-0.009614</td>\n",
              "      <td>0.010878</td>\n",
              "      <td>0.010024</td>\n",
              "      <td>...</td>\n",
              "      <td>0.009228</td>\n",
              "      <td>-0.019023</td>\n",
              "      <td>0.004526</td>\n",
              "      <td>0.006658</td>\n",
              "      <td>-0.015446</td>\n",
              "      <td>-0.017750</td>\n",
              "      <td>-0.018068</td>\n",
              "      <td>0.020693</td>\n",
              "      <td>-0.008049</td>\n",
              "      <td>-0.015971</td>\n",
              "    </tr>\n",
              "    <tr>\n",
              "      <th>unto</th>\n",
              "      <td>0.002139</td>\n",
              "      <td>-0.018244</td>\n",
              "      <td>0.015636</td>\n",
              "      <td>-0.013421</td>\n",
              "      <td>-0.020808</td>\n",
              "      <td>-0.017322</td>\n",
              "      <td>-0.006129</td>\n",
              "      <td>-0.021582</td>\n",
              "      <td>-0.015174</td>\n",
              "      <td>-0.014712</td>\n",
              "      <td>...</td>\n",
              "      <td>-0.011880</td>\n",
              "      <td>0.002933</td>\n",
              "      <td>0.021158</td>\n",
              "      <td>0.005542</td>\n",
              "      <td>0.007465</td>\n",
              "      <td>0.000357</td>\n",
              "      <td>-0.008507</td>\n",
              "      <td>0.009015</td>\n",
              "      <td>-0.009197</td>\n",
              "      <td>0.004243</td>\n",
              "    </tr>\n",
              "    <tr>\n",
              "      <th>lord</th>\n",
              "      <td>0.001477</td>\n",
              "      <td>-0.021152</td>\n",
              "      <td>0.019644</td>\n",
              "      <td>-0.012093</td>\n",
              "      <td>0.003775</td>\n",
              "      <td>-0.013490</td>\n",
              "      <td>0.017218</td>\n",
              "      <td>0.017805</td>\n",
              "      <td>-0.017184</td>\n",
              "      <td>0.021172</td>\n",
              "      <td>...</td>\n",
              "      <td>0.004856</td>\n",
              "      <td>-0.000441</td>\n",
              "      <td>-0.000553</td>\n",
              "      <td>-0.001684</td>\n",
              "      <td>-0.002552</td>\n",
              "      <td>-0.020895</td>\n",
              "      <td>-0.017940</td>\n",
              "      <td>-0.015282</td>\n",
              "      <td>-0.019248</td>\n",
              "      <td>0.013574</td>\n",
              "    </tr>\n",
              "    <tr>\n",
              "      <th>thou</th>\n",
              "      <td>-0.007613</td>\n",
              "      <td>0.015065</td>\n",
              "      <td>0.011351</td>\n",
              "      <td>-0.018918</td>\n",
              "      <td>0.015813</td>\n",
              "      <td>0.010365</td>\n",
              "      <td>0.019496</td>\n",
              "      <td>0.008475</td>\n",
              "      <td>-0.005795</td>\n",
              "      <td>-0.010381</td>\n",
              "      <td>...</td>\n",
              "      <td>0.018378</td>\n",
              "      <td>-0.004083</td>\n",
              "      <td>0.019282</td>\n",
              "      <td>0.018736</td>\n",
              "      <td>-0.000250</td>\n",
              "      <td>0.020032</td>\n",
              "      <td>0.016851</td>\n",
              "      <td>-0.005051</td>\n",
              "      <td>-0.017965</td>\n",
              "      <td>-0.019035</td>\n",
              "    </tr>\n",
              "    <tr>\n",
              "      <th>thy</th>\n",
              "      <td>-0.017873</td>\n",
              "      <td>-0.018922</td>\n",
              "      <td>-0.009550</td>\n",
              "      <td>-0.018091</td>\n",
              "      <td>-0.020793</td>\n",
              "      <td>-0.012331</td>\n",
              "      <td>0.013933</td>\n",
              "      <td>0.005723</td>\n",
              "      <td>0.016391</td>\n",
              "      <td>0.021742</td>\n",
              "      <td>...</td>\n",
              "      <td>-0.004001</td>\n",
              "      <td>-0.010754</td>\n",
              "      <td>0.014430</td>\n",
              "      <td>0.009514</td>\n",
              "      <td>0.008432</td>\n",
              "      <td>-0.004720</td>\n",
              "      <td>-0.001927</td>\n",
              "      <td>-0.004011</td>\n",
              "      <td>-0.021194</td>\n",
              "      <td>0.018206</td>\n",
              "    </tr>\n",
              "  </tbody>\n",
              "</table>\n",
              "<p>5 rows × 100 columns</p>\n",
              "</div>\n",
              "      <button class=\"colab-df-convert\" onclick=\"convertToInteractive('df-a560e0f6-4c22-4ab0-a720-ed8fcd206cef')\"\n",
              "              title=\"Convert this dataframe to an interactive table.\"\n",
              "              style=\"display:none;\">\n",
              "        \n",
              "  <svg xmlns=\"http://www.w3.org/2000/svg\" height=\"24px\"viewBox=\"0 0 24 24\"\n",
              "       width=\"24px\">\n",
              "    <path d=\"M0 0h24v24H0V0z\" fill=\"none\"/>\n",
              "    <path d=\"M18.56 5.44l.94 2.06.94-2.06 2.06-.94-2.06-.94-.94-2.06-.94 2.06-2.06.94zm-11 1L8.5 8.5l.94-2.06 2.06-.94-2.06-.94L8.5 2.5l-.94 2.06-2.06.94zm10 10l.94 2.06.94-2.06 2.06-.94-2.06-.94-.94-2.06-.94 2.06-2.06.94z\"/><path d=\"M17.41 7.96l-1.37-1.37c-.4-.4-.92-.59-1.43-.59-.52 0-1.04.2-1.43.59L10.3 9.45l-7.72 7.72c-.78.78-.78 2.05 0 2.83L4 21.41c.39.39.9.59 1.41.59.51 0 1.02-.2 1.41-.59l7.78-7.78 2.81-2.81c.8-.78.8-2.07 0-2.86zM5.41 20L4 18.59l7.72-7.72 1.47 1.35L5.41 20z\"/>\n",
              "  </svg>\n",
              "      </button>\n",
              "      \n",
              "  <style>\n",
              "    .colab-df-container {\n",
              "      display:flex;\n",
              "      flex-wrap:wrap;\n",
              "      gap: 12px;\n",
              "    }\n",
              "\n",
              "    .colab-df-convert {\n",
              "      background-color: #E8F0FE;\n",
              "      border: none;\n",
              "      border-radius: 50%;\n",
              "      cursor: pointer;\n",
              "      display: none;\n",
              "      fill: #1967D2;\n",
              "      height: 32px;\n",
              "      padding: 0 0 0 0;\n",
              "      width: 32px;\n",
              "    }\n",
              "\n",
              "    .colab-df-convert:hover {\n",
              "      background-color: #E2EBFA;\n",
              "      box-shadow: 0px 1px 2px rgba(60, 64, 67, 0.3), 0px 1px 3px 1px rgba(60, 64, 67, 0.15);\n",
              "      fill: #174EA6;\n",
              "    }\n",
              "\n",
              "    [theme=dark] .colab-df-convert {\n",
              "      background-color: #3B4455;\n",
              "      fill: #D2E3FC;\n",
              "    }\n",
              "\n",
              "    [theme=dark] .colab-df-convert:hover {\n",
              "      background-color: #434B5C;\n",
              "      box-shadow: 0px 1px 3px 1px rgba(0, 0, 0, 0.15);\n",
              "      filter: drop-shadow(0px 1px 2px rgba(0, 0, 0, 0.3));\n",
              "      fill: #FFFFFF;\n",
              "    }\n",
              "  </style>\n",
              "\n",
              "      <script>\n",
              "        const buttonEl =\n",
              "          document.querySelector('#df-a560e0f6-4c22-4ab0-a720-ed8fcd206cef button.colab-df-convert');\n",
              "        buttonEl.style.display =\n",
              "          google.colab.kernel.accessAllowed ? 'block' : 'none';\n",
              "\n",
              "        async function convertToInteractive(key) {\n",
              "          const element = document.querySelector('#df-a560e0f6-4c22-4ab0-a720-ed8fcd206cef');\n",
              "          const dataTable =\n",
              "            await google.colab.kernel.invokeFunction('convertToInteractive',\n",
              "                                                     [key], {});\n",
              "          if (!dataTable) return;\n",
              "\n",
              "          const docLinkHtml = 'Like what you see? Visit the ' +\n",
              "            '<a target=\"_blank\" href=https://colab.research.google.com/notebooks/data_table.ipynb>data table notebook</a>'\n",
              "            + ' to learn more about interactive tables.';\n",
              "          element.innerHTML = '';\n",
              "          dataTable['output_type'] = 'display_data';\n",
              "          await google.colab.output.renderOutput(dataTable, element);\n",
              "          const docLink = document.createElement('div');\n",
              "          docLink.innerHTML = docLinkHtml;\n",
              "          element.appendChild(docLink);\n",
              "        }\n",
              "      </script>\n",
              "    </div>\n",
              "  </div>\n",
              "  "
            ]
          },
          "metadata": {},
          "execution_count": 27
        }
      ]
    },
    {
      "cell_type": "code",
      "source": [
        "distance_matrix = euclidean_distances(weights)\n",
        "print(distance_matrix.shape)"
      ],
      "metadata": {
        "colab": {
          "base_uri": "https://localhost:8080/"
        },
        "id": "L6Kb0FElwC59",
        "outputId": "22e505dc-10ea-44f3-f74c-4c13f925e6ab"
      },
      "execution_count": null,
      "outputs": [
        {
          "output_type": "stream",
          "name": "stdout",
          "text": [
            "(12424, 12424)\n"
          ]
        }
      ]
    },
    {
      "cell_type": "code",
      "source": [
        "similar_words = {search_term: [id2word[idx] for idx in distance_matrix[word2id[search_term]-1].argsort()[1:6]+1]\n",
        "                   for search_term in ['god', 'jesus','egypt', 'john', 'famine']}\n",
        "similar_words"
      ],
      "metadata": {
        "colab": {
          "base_uri": "https://localhost:8080/"
        },
        "id": "jDjICj3ewagg",
        "outputId": "4086e40c-86fd-4a3b-b07f-a2893466a5de"
      },
      "execution_count": null,
      "outputs": [
        {
          "output_type": "execute_result",
          "data": {
            "text/plain": [
              "{'god': ['weapons', 'justified', 'revengeth', 'shapham', 'vails'],\n",
              " 'jesus': ['substance', 'yonder', 'thereon', 'dukes', 'money'],\n",
              " 'egypt': ['sheshbazzar', 'axletrees', 'ishuah', 'ruler', 'memucan'],\n",
              " 'john': ['cistern', 'sheepskins', 'oliveyard', 'largeness', 'craftsman'],\n",
              " 'famine': ['treasurers', 'undone', 'rend', 'unjustly', 'open']}"
            ]
          },
          "metadata": {},
          "execution_count": 30
        }
      ]
    },
    {
      "cell_type": "code",
      "source": [
        "from sklearn.manifold import TSNE\n",
        "\n",
        "words = sum([[k] + v for k, v in similar_words.items()], [])\n",
        "words_ids = [word2id[w] for w in words]\n",
        "word_vectors = np.array([weights[idx] for idx in words_ids])\n",
        "print('Total words:', len(words), '\\tWord Embedding shapes:', word_vectors.shape)"
      ],
      "metadata": {
        "colab": {
          "base_uri": "https://localhost:8080/"
        },
        "id": "skey5V5YzvpB",
        "outputId": "0686f3d5-38ac-40b2-ca80-98de59fd358c"
      },
      "execution_count": null,
      "outputs": [
        {
          "output_type": "stream",
          "name": "stdout",
          "text": [
            "Total words: 30 \tWord Embedding shapes: (30, 100)\n"
          ]
        }
      ]
    },
    {
      "cell_type": "code",
      "source": [
        "tsne = TSNE(n_components=2, random_state=0, n_iter=10000, perplexity=3)\n",
        "np.set_printoptions(suppress=True)\n",
        "T = tsne.fit_transform(word_vectors)\n",
        "labels = words"
      ],
      "metadata": {
        "colab": {
          "base_uri": "https://localhost:8080/"
        },
        "id": "z0U3i-pxz0xS",
        "outputId": "958ad4cf-d11f-4963-de55-db5d647f3976"
      },
      "execution_count": null,
      "outputs": [
        {
          "output_type": "stream",
          "name": "stderr",
          "text": [
            "/usr/local/lib/python3.8/dist-packages/sklearn/manifold/_t_sne.py:780: FutureWarning: The default initialization in TSNE will change from 'random' to 'pca' in 1.2.\n",
            "  warnings.warn(\n",
            "/usr/local/lib/python3.8/dist-packages/sklearn/manifold/_t_sne.py:790: FutureWarning: The default learning rate in TSNE will change from 200.0 to 'auto' in 1.2.\n",
            "  warnings.warn(\n"
          ]
        }
      ]
    },
    {
      "cell_type": "code",
      "source": [
        "plt.figure(figsize=(14, 8))\n",
        "plt.scatter(T[:, 0], T[:, 1])\n",
        "for label, x, y in zip(labels, T[:, 0], T[:, 1]):\n",
        "    plt.annotate(label, xy=(x+1, y+1), xytext=(0, 0), textcoords='offset points')"
      ],
      "metadata": {
        "colab": {
          "base_uri": "https://localhost:8080/",
          "height": 483
        },
        "id": "Hgc2JAx9z4dL",
        "outputId": "421a5144-5420-48a0-b9bd-6dd3f3311ce2"
      },
      "execution_count": null,
      "outputs": [
        {
          "output_type": "display_data",
          "data": {
            "text/plain": [
              "<Figure size 1008x576 with 1 Axes>"
            ],
            "image/png": "[encoded data removed]"
          },
          "metadata": {
            "needs_background": "light"
          }
        }
      ]
    },
    {
      "cell_type": "markdown",
      "source": [
        "## Continuous Bag Of Words (CBOW) model"
      ],
      "metadata": {
        "id": "G3jCOZIKxEKq"
      }
    },
    {
      "cell_type": "code",
      "source": [
        "import keras.backend as K\n",
        "from keras.layers import Lambda\n",
        "from keras.utils import np_utils\n",
        "from keras.preprocessing import sequence\n",
        "from keras.preprocessing.text import Tokenizer\n",
        "import gensim"
      ],
      "metadata": {
        "id": "_iIJMxYfxL1n"
      },
      "execution_count": null,
      "outputs": []
    },
    {
      "cell_type": "code",
      "source": [
        "data=open('/content/data.txt','r')"
      ],
      "metadata": {
        "id": "VsiNH5NtHZiq"
      },
      "execution_count": null,
      "outputs": []
    },
    {
      "cell_type": "code",
      "source": [
        "corona_data = [text for text in data if text.count(' ') >= 2]\n",
        "vectorize = Tokenizer()\n",
        "vectorize.fit_on_texts(corona_data)\n",
        "corona_data = vectorize.texts_to_sequences(corona_data)\n",
        "total_vocab = sum(len(s) for s in corona_data)\n",
        "word_count = len(vectorize.word_index) + 1\n",
        "window_size = 2"
      ],
      "metadata": {
        "id": "CbjcnSXyHTuC"
      },
      "execution_count": null,
      "outputs": []
    },
    {
      "cell_type": "code",
      "source": [
        "def cbow_model(data, window_size, total_vocab):\n",
        "    total_length = window_size*2\n",
        "    for text in data:\n",
        "        text_len = len(text)\n",
        "        for idx, word in enumerate(text):\n",
        "            context_word = []\n",
        "            target   = []\n",
        "            begin = idx - window_size\n",
        "            end = idx + window_size + 1\n",
        "            context_word.append([text[i] for i in range(begin, end) if 0 <= i < text_len and i != idx])\n",
        "            target.append(word)\n",
        "            contextual = sequence.pad_sequences(context_word, total_length=total_length)\n",
        "            final_target = np_utils.to_categorical(target, total_vocab)\n",
        "            yield(contextual, final_target)"
      ],
      "metadata": {
        "id": "9tgsmiIuMwAl"
      },
      "execution_count": null,
      "outputs": []
    },
    {
      "cell_type": "code",
      "source": [
        "model = Sequential()\n",
        "model.add(Embedding(input_dim=total_vocab, output_dim=100, input_length=window_size*2))\n",
        "model.add(Lambda(lambda x: K.mean(x, axis=1), output_shape=(100,)))\n",
        "model.add(Dense(total_vocab, activation='softmax'))\n",
        "model.compile(loss='categorical_crossentropy', optimizer='adam')\n",
        "for i in range(10):\n",
        "    cost = 0\n",
        "    for x, y in cbow_model(data, window_size, total_vocab):\n",
        "        cost += model.train_on_batch(contextual, final_target)\n",
        "    print(i, cost)"
      ],
      "metadata": {
        "colab": {
          "base_uri": "https://localhost:8080/"
        },
        "id": "mFfcSAKvM82c",
        "outputId": "1ca9a8e2-b10e-4098-f9a5-17cdb3c0a2ef"
      },
      "execution_count": null,
      "outputs": [
        {
          "output_type": "stream",
          "name": "stdout",
          "text": [
            "0 0\n",
            "1 0\n",
            "2 0\n",
            "3 0\n",
            "4 0\n",
            "5 0\n",
            "6 0\n",
            "7 0\n",
            "8 0\n",
            "9 0\n"
          ]
        }
      ]
    },
    {
      "cell_type": "code",
      "source": [
        "dimensions=100\n",
        "vect_file = open('/content/vectors.txt' ,'w')\n",
        "vect_file.write('{} {}\\n'.format(total_vocab,dimensions))"
      ],
      "metadata": {
        "colab": {
          "base_uri": "https://localhost:8080/"
        },
        "id": "WxfA1p93OZ8x",
        "outputId": "7936501f-0bc0-41c8-d781-223f745f95bf"
      },
      "execution_count": null,
      "outputs": [
        {
          "output_type": "execute_result",
          "data": {
            "text/plain": [
              "8"
            ]
          },
          "metadata": {},
          "execution_count": 50
        }
      ]
    },
    {
      "cell_type": "code",
      "source": [
        "weights = model.get_weights()[0]\n",
        "for text, i in vectorize.word_index.items():\n",
        "    final_vec = ' '.join(map(str, list(weights[i, :])))\n",
        "    vect_file.write('{} {}\\n'.format(text, final_vec))\n",
        "vect_file.close()"
      ],
      "metadata": {
        "id": "Rbpsm4cTO3Vl"
      },
      "execution_count": null,
      "outputs": []
    },
    {
      "cell_type": "code",
      "source": [
        "cbow_output = gensim.models.KeyedVectors.load_word2vec_format('/content/vectors.txt', binary=False)\n",
        "cbow_output.most_similar(positive=['virus'])"
      ],
      "metadata": {
        "id": "aLsTcsKxO8p8"
      },
      "execution_count": null,
      "outputs": []
    },
    {
      "cell_type": "markdown",
      "source": [
        "#### Which model is better?"
      ],
      "metadata": {
        "id": "0pXFmTnZ1zzG"
      }
    },
    {
      "cell_type": "markdown",
      "source": [
        "**It depends on the problem!**"
      ],
      "metadata": {
        "id": "00YQKtAj2Dy_"
      }
    },
    {
      "cell_type": "markdown",
      "source": [
        "*   **Skip-Gram works well with small datasets, and can better represent rare words.**\n",
        "\n",
        "Is it important for our model to represent less frequent words? then we should choose Skip-Gram.\n",
        "\n",
        "*   **CBOW is found to train faster than Skip-Gram, and can better represent more frequent words.**\n",
        "\n",
        "What if we dont have much time to train and rare words are not that important for our solution? Then we should choose CBOW."
      ],
      "metadata": {
        "id": "EO-4G3-B2Azs"
      }
    },
    {
      "cell_type": "markdown",
      "source": [
        "## TF-IDF"
      ],
      "metadata": {
        "id": "pj8r1y0sPeZK"
      }
    },
    {
      "cell_type": "code",
      "source": [
        "from sklearn.feature_extraction.text import TfidfTransformer, TfidfVectorizer, CountVectorizer"
      ],
      "metadata": {
        "id": "Tqkbys4pQ_9M"
      },
      "execution_count": null,
      "outputs": []
    },
    {
      "cell_type": "code",
      "source": [
        "dataset = [\n",
        "    \"In order to see the full power of TF-IDF we would actually require a proper, larger dataset.\",\n",
        "    \"But for the purpose of our article, we only want to focus on implementation.\",\n",
        "    \"So let’s import our dependencies into our project and build our mini-dataset.\"\n",
        "    ]"
      ],
      "metadata": {
        "id": "JwcOqjh-Rble"
      },
      "execution_count": null,
      "outputs": []
    },
    {
      "cell_type": "code",
      "source": [
        "tfIdfVectorizer=TfidfVectorizer(use_idf=True)\n",
        "tfIdf = tfIdfVectorizer.fit_transform(dataset)\n",
        "df = pd.DataFrame(tfIdf[0].T.todense(), index=tfIdfVectorizer.get_feature_names(), columns=[\"TF-IDF\"])\n",
        "df = df.sort_values('TF-IDF', ascending=False)\n",
        "print (df.head(25))"
      ],
      "metadata": {
        "id": "YpZd2--FRVjZ"
      },
      "execution_count": null,
      "outputs": []
    },
    {
      "cell_type": "code",
      "source": [
        "tfIdfTransformer = TfidfTransformer(use_idf=True)\n",
        "countVectorizer = CountVectorizer()\n",
        "wordCount = countVectorizer.fit_transform(dataset)\n",
        "newTfIdf = tfIdfTransformer.fit_transform(wordCount)\n",
        "df = pd.DataFrame(newTfIdf[0].T.todense(), index=countVectorizer.get_feature_names(), columns=[\"TF-IDF\"])\n",
        "df = df.sort_values('TF-IDF', ascending=False)\n",
        "print (df.head(25))"
      ],
      "metadata": {
        "colab": {
          "base_uri": "https://localhost:8080/"
        },
        "id": "GUZbkXllRyHK",
        "outputId": "90d74215-e28d-47ca-e6b5-c8f559d61fad"
      },
      "execution_count": null,
      "outputs": [
        {
          "output_type": "stream",
          "name": "stdout",
          "text": [
            "                  TF-IDF\n",
            "actually        0.259133\n",
            "idf             0.259133\n",
            "tf              0.259133\n",
            "see             0.259133\n",
            "require         0.259133\n",
            "proper          0.259133\n",
            "power           0.259133\n",
            "order           0.259133\n",
            "larger          0.259133\n",
            "in              0.259133\n",
            "would           0.259133\n",
            "full            0.259133\n",
            "of              0.197078\n",
            "we              0.197078\n",
            "to              0.197078\n",
            "the             0.197078\n",
            "dataset         0.197078\n",
            "project         0.000000\n",
            "want            0.000000\n",
            "article         0.000000\n",
            "so              0.000000\n",
            "build           0.000000\n",
            "but             0.000000\n",
            "purpose         0.000000\n",
            "implementation  0.000000\n"
          ]
        },
        {
          "output_type": "stream",
          "name": "stderr",
          "text": [
            "/usr/local/lib/python3.8/dist-packages/sklearn/utils/deprecation.py:87: FutureWarning: Function get_feature_names is deprecated; get_feature_names is deprecated in 1.0 and will be removed in 1.2. Please use get_feature_names_out instead.\n",
            "  warnings.warn(msg, category=FutureWarning)\n"
          ]
        }
      ]
    },
    {
      "cell_type": "markdown",
      "source": [
        "Also see:\n",
        "\n",
        "[word2vec tutorial](https://www.tensorflow.org/tutorials/text/word2vec)\n",
        "\n",
        "[TF-IDF demo](https://remykarem.github.io/tfidf-demo/)"
      ],
      "metadata": {
        "id": "1WtxV6tPh9qK"
      }
    }
  ]
}